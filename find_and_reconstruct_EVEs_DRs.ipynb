{
 "cells": [
  {
   "cell_type": "markdown",
   "id": "ebf5baf3-e2a3-46f4-adf1-50cf831c894c",
   "metadata": {},
   "source": [
    "### to run this code, you need to have standalone EMBOSS (getorf), BLAST, and HMMER installed"
   ]
  },
  {
   "cell_type": "code",
   "execution_count": 67,
   "id": "5d0a7d19-ecb9-4236-9f05-ce4f2362b717",
   "metadata": {},
   "outputs": [],
   "source": [
    "import subprocess\n",
    "import os\n",
    "from glob import glob\n",
    "from Bio import SearchIO\n",
    "from Bio import SeqIO"
   ]
  },
  {
   "cell_type": "markdown",
   "id": "ba302f72-b29a-45d4-8fb4-867f0005406d",
   "metadata": {},
   "source": [
    "## load and adjust all paths"
   ]
  },
  {
   "cell_type": "code",
   "execution_count": 68,
   "id": "bca7d4c0-21ec-4d63-a062-6e75eee926f1",
   "metadata": {},
   "outputs": [],
   "source": [
    "outdir = \"/home/majnusova/all/projects/plv/data/eustig_orfs/\" #adjust\n",
    "genomes = glob(\"/home/majnusova/all/projects/plv/data/genomes_test/*.fasta\")\n",
    "hmm_model = \"/home/majnusova/all/projects/bilabrum/data/hmm/Packiging_ATPase.hmm\" #adjust\n",
    "output_directory = \"/home/majnusova/all/projects/plv/data/eustigs_hmmout/\" #adjust\n",
    "orf_files = glob(\"/home/majnusova/all/projects/plv/data/eustig_orfs/*_orfs.fa\") #adjust: list of orf databases\n",
    "blastables_outdir = \"/home/majnusova/all/projects/plv/data/blastables/\"\n",
    "scaffolds_dir = \"/home/majnusova/all/projects/plv/data/eve_outscaffolds/\"\n",
    "blastables_outdir = \"/home/majnusova/all/projects/plv/data/blastables/\""
   ]
  },
  {
   "cell_type": "markdown",
   "id": "e7be67a7-5d1f-4e9f-8f40-a7c8da8cf175",
   "metadata": {},
   "source": [
    "### Extract ORFs from genomes"
   ]
  },
  {
   "cell_type": "code",
   "execution_count": 69,
   "id": "a2176dd5-1a1f-47e7-8acc-158ec81f14a3",
   "metadata": {
    "collapsed": true,
    "jupyter": {
     "outputs_hidden": true
    }
   },
   "outputs": [
    {
     "name": "stderr",
     "output_type": "stream",
     "text": [
      "Find and extract open reading frames (ORFs)\n",
      "Find and extract open reading frames (ORFs)\n"
     ]
    },
    {
     "ename": "KeyboardInterrupt",
     "evalue": "",
     "output_type": "error",
     "traceback": [
      "\u001b[0;31m---------------------------------------------------------------------------\u001b[0m",
      "\u001b[0;31mKeyboardInterrupt\u001b[0m                         Traceback (most recent call last)",
      "Cell \u001b[0;32mIn[69], line 10\u001b[0m\n\u001b[1;32m      8\u001b[0m \u001b[38;5;28;01mfor\u001b[39;00m genome \u001b[38;5;129;01min\u001b[39;00m genomes:\n\u001b[1;32m      9\u001b[0m     orf_file \u001b[38;5;241m=\u001b[39m \u001b[38;5;124mf\u001b[39m\u001b[38;5;124m\"\u001b[39m\u001b[38;5;132;01m{\u001b[39;00moutdir\u001b[38;5;132;01m}\u001b[39;00m\u001b[38;5;132;01m{\u001b[39;00mgenome\u001b[38;5;241m.\u001b[39msplit(\u001b[38;5;124m'\u001b[39m\u001b[38;5;124m/\u001b[39m\u001b[38;5;124m'\u001b[39m)[\u001b[38;5;241m-\u001b[39m\u001b[38;5;241m1\u001b[39m]\u001b[38;5;241m.\u001b[39mreplace(\u001b[38;5;124m'\u001b[39m\u001b[38;5;124m.fasta\u001b[39m\u001b[38;5;124m'\u001b[39m,\u001b[38;5;250m \u001b[39m\u001b[38;5;124m'\u001b[39m\u001b[38;5;124m_orfs.fa\u001b[39m\u001b[38;5;124m'\u001b[39m)\u001b[38;5;132;01m}\u001b[39;00m\u001b[38;5;124m\"\u001b[39m\n\u001b[0;32m---> 10\u001b[0m     \u001b[43mrun_getorf\u001b[49m\u001b[43m(\u001b[49m\u001b[43mgenome\u001b[49m\u001b[43m,\u001b[49m\u001b[43m \u001b[49m\u001b[43morf_file\u001b[49m\u001b[43m)\u001b[49m\n",
      "Cell \u001b[0;32mIn[69], line 3\u001b[0m, in \u001b[0;36mrun_getorf\u001b[0;34m(genome, orf_file)\u001b[0m\n\u001b[1;32m      1\u001b[0m \u001b[38;5;28;01mdef\u001b[39;00m \u001b[38;5;21mrun_getorf\u001b[39m(genome, orf_file):\n\u001b[1;32m      2\u001b[0m     command \u001b[38;5;241m=\u001b[39m [\u001b[38;5;124m\"\u001b[39m\u001b[38;5;124mgetorf\u001b[39m\u001b[38;5;124m\"\u001b[39m, \u001b[38;5;124m\"\u001b[39m\u001b[38;5;124m-sequence\u001b[39m\u001b[38;5;124m\"\u001b[39m, genome, \u001b[38;5;124m\"\u001b[39m\u001b[38;5;124m-outseq\u001b[39m\u001b[38;5;124m\"\u001b[39m, orf_file, \u001b[38;5;124m\"\u001b[39m\u001b[38;5;124m-table\u001b[39m\u001b[38;5;124m\"\u001b[39m, \u001b[38;5;124m\"\u001b[39m\u001b[38;5;124m0\u001b[39m\u001b[38;5;124m\"\u001b[39m, \u001b[38;5;124m\"\u001b[39m\u001b[38;5;124m-minsize\u001b[39m\u001b[38;5;124m\"\u001b[39m, \u001b[38;5;124m\"\u001b[39m\u001b[38;5;124m360\u001b[39m\u001b[38;5;124m\"\u001b[39m, \u001b[38;5;124m\"\u001b[39m\u001b[38;5;124m-find\u001b[39m\u001b[38;5;124m\"\u001b[39m, \u001b[38;5;124m\"\u001b[39m\u001b[38;5;124m1\u001b[39m\u001b[38;5;124m\"\u001b[39m] \u001b[38;5;66;03m#adjust (120 aa, START to STOP, standard gen. code)\u001b[39;00m\n\u001b[0;32m----> 3\u001b[0m     \u001b[43msubprocess\u001b[49m\u001b[38;5;241;43m.\u001b[39;49m\u001b[43mrun\u001b[49m\u001b[43m(\u001b[49m\u001b[43mcommand\u001b[49m\u001b[43m,\u001b[49m\u001b[43m \u001b[49m\u001b[43mcheck\u001b[49m\u001b[38;5;241;43m=\u001b[39;49m\u001b[38;5;28;43;01mTrue\u001b[39;49;00m\u001b[43m)\u001b[49m\n",
      "File \u001b[0;32m~/miniconda3/lib/python3.10/subprocess.py:505\u001b[0m, in \u001b[0;36mrun\u001b[0;34m(input, capture_output, timeout, check, *popenargs, **kwargs)\u001b[0m\n\u001b[1;32m    503\u001b[0m \u001b[38;5;28;01mwith\u001b[39;00m Popen(\u001b[38;5;241m*\u001b[39mpopenargs, \u001b[38;5;241m*\u001b[39m\u001b[38;5;241m*\u001b[39mkwargs) \u001b[38;5;28;01mas\u001b[39;00m process:\n\u001b[1;32m    504\u001b[0m     \u001b[38;5;28;01mtry\u001b[39;00m:\n\u001b[0;32m--> 505\u001b[0m         stdout, stderr \u001b[38;5;241m=\u001b[39m \u001b[43mprocess\u001b[49m\u001b[38;5;241;43m.\u001b[39;49m\u001b[43mcommunicate\u001b[49m\u001b[43m(\u001b[49m\u001b[38;5;28;43minput\u001b[39;49m\u001b[43m,\u001b[49m\u001b[43m \u001b[49m\u001b[43mtimeout\u001b[49m\u001b[38;5;241;43m=\u001b[39;49m\u001b[43mtimeout\u001b[49m\u001b[43m)\u001b[49m\n\u001b[1;32m    506\u001b[0m     \u001b[38;5;28;01mexcept\u001b[39;00m TimeoutExpired \u001b[38;5;28;01mas\u001b[39;00m exc:\n\u001b[1;32m    507\u001b[0m         process\u001b[38;5;241m.\u001b[39mkill()\n",
      "File \u001b[0;32m~/miniconda3/lib/python3.10/subprocess.py:1146\u001b[0m, in \u001b[0;36mPopen.communicate\u001b[0;34m(self, input, timeout)\u001b[0m\n\u001b[1;32m   1144\u001b[0m         stderr \u001b[38;5;241m=\u001b[39m \u001b[38;5;28mself\u001b[39m\u001b[38;5;241m.\u001b[39mstderr\u001b[38;5;241m.\u001b[39mread()\n\u001b[1;32m   1145\u001b[0m         \u001b[38;5;28mself\u001b[39m\u001b[38;5;241m.\u001b[39mstderr\u001b[38;5;241m.\u001b[39mclose()\n\u001b[0;32m-> 1146\u001b[0m     \u001b[38;5;28;43mself\u001b[39;49m\u001b[38;5;241;43m.\u001b[39;49m\u001b[43mwait\u001b[49m\u001b[43m(\u001b[49m\u001b[43m)\u001b[49m\n\u001b[1;32m   1147\u001b[0m \u001b[38;5;28;01melse\u001b[39;00m:\n\u001b[1;32m   1148\u001b[0m     \u001b[38;5;28;01mif\u001b[39;00m timeout \u001b[38;5;129;01mis\u001b[39;00m \u001b[38;5;129;01mnot\u001b[39;00m \u001b[38;5;28;01mNone\u001b[39;00m:\n",
      "File \u001b[0;32m~/miniconda3/lib/python3.10/subprocess.py:1209\u001b[0m, in \u001b[0;36mPopen.wait\u001b[0;34m(self, timeout)\u001b[0m\n\u001b[1;32m   1207\u001b[0m     endtime \u001b[38;5;241m=\u001b[39m _time() \u001b[38;5;241m+\u001b[39m timeout\n\u001b[1;32m   1208\u001b[0m \u001b[38;5;28;01mtry\u001b[39;00m:\n\u001b[0;32m-> 1209\u001b[0m     \u001b[38;5;28;01mreturn\u001b[39;00m \u001b[38;5;28;43mself\u001b[39;49m\u001b[38;5;241;43m.\u001b[39;49m\u001b[43m_wait\u001b[49m\u001b[43m(\u001b[49m\u001b[43mtimeout\u001b[49m\u001b[38;5;241;43m=\u001b[39;49m\u001b[43mtimeout\u001b[49m\u001b[43m)\u001b[49m\n\u001b[1;32m   1210\u001b[0m \u001b[38;5;28;01mexcept\u001b[39;00m \u001b[38;5;167;01mKeyboardInterrupt\u001b[39;00m:\n\u001b[1;32m   1211\u001b[0m     \u001b[38;5;66;03m# https://bugs.python.org/issue25942\u001b[39;00m\n\u001b[1;32m   1212\u001b[0m     \u001b[38;5;66;03m# The first keyboard interrupt waits briefly for the child to\u001b[39;00m\n\u001b[1;32m   1213\u001b[0m     \u001b[38;5;66;03m# exit under the common assumption that it also received the ^C\u001b[39;00m\n\u001b[1;32m   1214\u001b[0m     \u001b[38;5;66;03m# generated SIGINT and will exit rapidly.\u001b[39;00m\n\u001b[1;32m   1215\u001b[0m     \u001b[38;5;28;01mif\u001b[39;00m timeout \u001b[38;5;129;01mis\u001b[39;00m \u001b[38;5;129;01mnot\u001b[39;00m \u001b[38;5;28;01mNone\u001b[39;00m:\n",
      "File \u001b[0;32m~/miniconda3/lib/python3.10/subprocess.py:1959\u001b[0m, in \u001b[0;36mPopen._wait\u001b[0;34m(self, timeout)\u001b[0m\n\u001b[1;32m   1957\u001b[0m \u001b[38;5;28;01mif\u001b[39;00m \u001b[38;5;28mself\u001b[39m\u001b[38;5;241m.\u001b[39mreturncode \u001b[38;5;129;01mis\u001b[39;00m \u001b[38;5;129;01mnot\u001b[39;00m \u001b[38;5;28;01mNone\u001b[39;00m:\n\u001b[1;32m   1958\u001b[0m     \u001b[38;5;28;01mbreak\u001b[39;00m  \u001b[38;5;66;03m# Another thread waited.\u001b[39;00m\n\u001b[0;32m-> 1959\u001b[0m (pid, sts) \u001b[38;5;241m=\u001b[39m \u001b[38;5;28;43mself\u001b[39;49m\u001b[38;5;241;43m.\u001b[39;49m\u001b[43m_try_wait\u001b[49m\u001b[43m(\u001b[49m\u001b[38;5;241;43m0\u001b[39;49m\u001b[43m)\u001b[49m\n\u001b[1;32m   1960\u001b[0m \u001b[38;5;66;03m# Check the pid and loop as waitpid has been known to\u001b[39;00m\n\u001b[1;32m   1961\u001b[0m \u001b[38;5;66;03m# return 0 even without WNOHANG in odd situations.\u001b[39;00m\n\u001b[1;32m   1962\u001b[0m \u001b[38;5;66;03m# http://bugs.python.org/issue14396.\u001b[39;00m\n\u001b[1;32m   1963\u001b[0m \u001b[38;5;28;01mif\u001b[39;00m pid \u001b[38;5;241m==\u001b[39m \u001b[38;5;28mself\u001b[39m\u001b[38;5;241m.\u001b[39mpid:\n",
      "File \u001b[0;32m~/miniconda3/lib/python3.10/subprocess.py:1917\u001b[0m, in \u001b[0;36mPopen._try_wait\u001b[0;34m(self, wait_flags)\u001b[0m\n\u001b[1;32m   1915\u001b[0m \u001b[38;5;250m\u001b[39m\u001b[38;5;124;03m\"\"\"All callers to this function MUST hold self._waitpid_lock.\"\"\"\u001b[39;00m\n\u001b[1;32m   1916\u001b[0m \u001b[38;5;28;01mtry\u001b[39;00m:\n\u001b[0;32m-> 1917\u001b[0m     (pid, sts) \u001b[38;5;241m=\u001b[39m \u001b[43mos\u001b[49m\u001b[38;5;241;43m.\u001b[39;49m\u001b[43mwaitpid\u001b[49m\u001b[43m(\u001b[49m\u001b[38;5;28;43mself\u001b[39;49m\u001b[38;5;241;43m.\u001b[39;49m\u001b[43mpid\u001b[49m\u001b[43m,\u001b[49m\u001b[43m \u001b[49m\u001b[43mwait_flags\u001b[49m\u001b[43m)\u001b[49m\n\u001b[1;32m   1918\u001b[0m \u001b[38;5;28;01mexcept\u001b[39;00m \u001b[38;5;167;01mChildProcessError\u001b[39;00m:\n\u001b[1;32m   1919\u001b[0m     \u001b[38;5;66;03m# This happens if SIGCLD is set to be ignored or waiting\u001b[39;00m\n\u001b[1;32m   1920\u001b[0m     \u001b[38;5;66;03m# for child processes has otherwise been disabled for our\u001b[39;00m\n\u001b[1;32m   1921\u001b[0m     \u001b[38;5;66;03m# process.  This child is dead, we can't get the status.\u001b[39;00m\n\u001b[1;32m   1922\u001b[0m     pid \u001b[38;5;241m=\u001b[39m \u001b[38;5;28mself\u001b[39m\u001b[38;5;241m.\u001b[39mpid\n",
      "\u001b[0;31mKeyboardInterrupt\u001b[0m: "
     ]
    }
   ],
   "source": [
    "def run_getorf(genome, orf_file):\n",
    "    command = [\"getorf\", \"-sequence\", genome, \"-outseq\", orf_file, \"-table\", \"0\", \"-minsize\", \"360\", \"-find\", \"1\"] #adjust (120 aa, START to STOP, standard gen. code)\n",
    "    subprocess.run(command, check=True)\n",
    "\n",
    "outdir = \"/home/majnusova/all/projects/plv/data/eustig_orfs/\" #adjust\n",
    "genomes = glob(\"/home/majnusova/all/projects/plv/data/genomes_test/*.fasta\") #adjust - this is just a test dataset\n",
    "\n",
    "for genome in genomes:\n",
    "    orf_file = f\"{outdir}{genome.split('/')[-1].replace('.fasta', '_orfs.fa')}\"\n",
    "    run_getorf(genome, orf_file)"
   ]
  },
  {
   "cell_type": "markdown",
   "id": "d5248043-f1c4-4744-bb58-a1d1f8282939",
   "metadata": {},
   "source": [
    "### hmmsearch with HMM against those extracted ORFs"
   ]
  },
  {
   "cell_type": "code",
   "execution_count": null,
   "id": "f3bf7d10-5746-483d-afca-e576d395de00",
   "metadata": {},
   "outputs": [],
   "source": [
    "# running hhmmsearch against multiple databases at once and saving the resulting files using the .hmmout suffix\n",
    "def run_hmmsearch(orf_file, hmm_model, output_file):\n",
    "    command = [\"hmmsearch\", \"-o\", output_file, hmm_model, orf_file]\n",
    "    subprocess.run(command, check=True)\n",
    "\n",
    "hmm_model = \"/home/majnusova/all/projects/bilabrum/data/hmm/Packiging_ATPase.hmm\" #adjust\n",
    "output_directory = \"/home/majnusova/all/projects/plv/data/eustigs_hmmout/\" #adjust\n",
    "orf_files = glob(\"/home/majnusova/all/projects/plv/data/eustig_orfs/*_orfs.fa\") #adjust: list of orf databases\n",
    "\n",
    "\n",
    "# iterate over the list of database files and run hmmsearch \n",
    "for orf_file in orf_files:\n",
    "    output_file = f\"{output_directory}{orf_file.split('/')[-1].replace('_orfs.fa', '_atp.hmmout')}\" \n",
    "    run_hmmsearch(orf_file, hmm_model, output_file) #needs to be nested inside the loop!\n"
   ]
  },
  {
   "cell_type": "markdown",
   "id": "7b300655-6873-4dce-8ab4-3cd835c4adca",
   "metadata": {},
   "source": [
    "### saving IDs of homologs above inclusion threshold found by HMMER (in all the genomes)"
   ]
  },
  {
   "cell_type": "code",
   "execution_count": null,
   "id": "d3956b70-81b4-4416-83e2-118be8d14810",
   "metadata": {},
   "outputs": [],
   "source": [
    "# saving IDs of sequences above the inclustion treshold into ids_list\n",
    "ids_list_orfs = []\n",
    "for file in glob(\"/home/majnusova/all/projects/plv/data/eustigs_hmmout/*_atp.hmmout\"):\n",
    "    hmmer_file = SearchIO.read(file, \"hmmer3-text\")\n",
    "    for record in hmmer_file:\n",
    "        if record.is_included:\n",
    "            ids_list_orfs.append(record.id)\n",
    "len(ids_list_orfs) \n"
   ]
  },
  {
   "cell_type": "code",
   "execution_count": null,
   "id": "a1302fa8-dd80-46b0-a0a7-08f4c14698f7",
   "metadata": {
    "scrolled": true
   },
   "outputs": [],
   "source": [
    "print(ids_list_orfs)\n"
   ]
  },
  {
   "cell_type": "markdown",
   "id": "b49156b4-f26c-45ff-86a4-1a25c06df4f7",
   "metadata": {},
   "source": [
    "### Extracting scaffolds with the viral homologs found by HMMER (ids_list), scaffolds shorter than 18000 nt are discarded"
   ]
  },
  {
   "cell_type": "code",
   "execution_count": 70,
   "id": "419e4293-e828-4a05-ae2e-03c287081e4b",
   "metadata": {
    "scrolled": true
   },
   "outputs": [
    {
     "name": "stdout",
     "output_type": "stream",
     "text": [
      "['NODE_5080_length_5696_cov_26.6876', 'NODE_381_length_27838_cov_14.2215', 'NODE_7293_length_4272_cov_22.9291', 'NODE_5397_length_5445_cov_37.4879', 'NODE_6066_length_4954_cov_14.3046', 'NODE_847_length_17049_cov_12.9829', 'NODE_7343_length_4249_cov_22.2454', 'NODE_19673_length_1550_cov_34.6107', 'NODE_1409_length_12728_cov_15.5927', 'NODE_1574_length_11923_cov_14.5027', 'NODE_711_length_18631_cov_14.7806', 'NODE_15445_length_2031_cov_23.9084', 'NODE_15112_length_2083_cov_16.6144', 'NODE_12470_length_2567_cov_17.4088', 'NODE_34064_length_837_cov_18.9655', 'NODE_4057_length_6629_cov_27.157', 'NODE_865_length_16875_cov_12.6059', 'NODE_869_length_16855_cov_12.4798', 'NODE_6477_length_4696_cov_21.0899', 'NODE_17368_length_1781_cov_15.3621', 'NODE_18418_length_1671_cov_21.013', 'NODE_352_length_29307_cov_12.7034', 'NODE_31105_length_924_cov_16.8895', 'NODE_4114_length_6570_cov_18.8181', 'NODE_64132_length_412_cov_37.521', 'NODE_21363_length_1410_cov_17.5911', 'NODE_729_length_18418_cov_17.5178', 'NODE_2989_length_8109_cov_18.7196', 'NODE_19459_length_1568_cov_14.5763', 'NODE_5193_length_5598_cov_18.435', 'NODE_1700_length_11441_cov_11.3554', 'NODE_23099_length_1285_cov_30.4293', 'NODE_5175_length_5619_cov_15.8523', 'NODE_1497_length_12259_cov_17.1079', 'NODE_45_length_194274_cov_4.45832', 'NODE_726_length_18432_cov_13.3793', 'NODE_2472_length_9153_cov_15.0004', 'NODE_1914_length_10584_cov_13.0671', 'NODE_27232_length_1069_cov_21.7475', 'NODE_16_length_371769_cov_13.539', 'NODE_1_length_1589435_cov_13.0886', 'NODE_10_length_626405_cov_4.34645', 'NODE_70_length_144148_cov_190.155', 'NODE_7137_length_4338_cov_10.9433', 'NODE_498_length_23434_cov_17.1238', 'NODE_33_length_241831_cov_197.129', 'NODE_89_length_113149_cov_3.22244', 'NODE_33_length_241831_cov_197.129', 'NODE_146_length_60639_cov_3.37158', 'NODE_95_length_100189_cov_309.803', 'NODE_122_length_74444_cov_387.187', 'NODE_381_length_27838_cov_14.2215', 'NODE_55_length_165510_cov_190.906', 'NODE_58_length_162532_cov_4.15186', 'NODE_98_length_98422_cov_62.5464', 'NODE_43_length_199121_cov_7.50572', 'NODE_2_length_969053_cov_7.62238', 'NODE_37_length_230641_cov_4.40646', 'NODE_4001_length_6695_cov_39.1587', 'NODE_10658_length_3024_cov_17.2284', 'NODE_11_length_515168_cov_3.2278', 'NODE_63_length_153037_cov_4.46219', 'NODE_1003_length_15534_cov_74.2099', 'NODE_244_length_37664_cov_11.8205', 'NODE_104_length_85964_cov_12.9853', 'NODE_66_length_150458_cov_3.12336', 'NODE_3_length_955702_cov_6.81221', 'NODE_28_length_282822_cov_9.9159', 'NODE_13_length_427009_cov_190.15', 'NODE_94_length_101213_cov_13.992', 'NODE_2_length_969053_cov_7.62238', 'NODE_95_length_100189_cov_309.803', 'NODE_3_length_955702_cov_6.81221', 'NODE_312_length_31651_cov_4.15834', 'NODE_2_length_969053_cov_7.62238', 'NODE_11781_length_2744_cov_19.5329', 'NODE_34592_length_823_cov_18.1107', 'NODE_34_length_241557_cov_7.5501', 'NODE_6241_length_4835_cov_7.08054', 'NODE_9_length_666414_cov_4.15495', 'NODE_26_length_312622_cov_7.43917', 'NODE_1_length_1589435_cov_13.0886', 'Vischeria_C74_contig_15', 'Vischeria_C74_contig_12', 'Vischeria_C74_contig_9', 'Vischeria_C74_contig_46', 'Vischeria_C74_contig_4', 'Vischeria_C74_contig_13', 'Vischeria_C74_contig_27', 'Vischeria_C74_contig_13', 'Vischeria_C74_contig_33', 'Vischeria_C74_contig_10', 'Vischeria_C74_contig_10', 'Vischeria_C74_contig_19', 'Vischeria_C74_contig_2', 'Vischeria_C74_contig_4', 'Vischeria_C74_contig_33', 'Vischeria_C74_contig_16', 'Vischeria_C74_contig_25', 'Vischeria_C74_contig_9', 'Vischeria_C74_contig_13', 'Vischeria_C74_contig_9', 'Vischeria_C74_contig_8', 'Vischeria_C74_contig_3', 'Vischeria_C74_contig_18', 'Vischeria_C74_contig_9', 'Vischeria_C74_contig_16', 'Vischeria_C74_contig_12', 'Vischeria_C74_contig_16', 'NODE_541_length_101851_cov_46.471309', 'NODE_8926_length_10478_cov_112.808095', 'NODE_6781_length_14418_cov_37.653650', 'NODE_7519_length_12830_cov_74.394025', 'NODE_6613_length_14812_cov_55.852596', 'NODE_22338_length_3203_cov_73.093410', 'NODE_55_length_463973_cov_37.984469', 'NODE_28174_length_2388_cov_130.530074', 'NODE_7863_length_12198_cov_39.876825', 'NODE_30947_length_2131_cov_44.927459', 'NODE_14086_length_5828_cov_114.282560', 'NODE_6253_length_15760_cov_50.012179', 'NODE_15254_length_5228_cov_2.298583', 'NODE_5979_length_16534_cov_39.455794', 'NODE_1103_length_61346_cov_37.814180', 'NODE_5256_length_18861_cov_43.559891', 'NODE_26439_length_2586_cov_73.009167', 'NODE_19752_length_3746_cov_115.179340', 'NODE_6042_length_16357_cov_74.447850', 'NODE_320_length_153881_cov_39.008816', 'NODE_5631_length_17651_cov_35.077843', 'NODE_5268_length_18834_cov_37.274020', 'NODE_3853_length_25035_cov_37.882483', 'NODE_4047_length_24047_cov_37.496871', 'NODE_10355_length_8667_cov_4.009197', 'NODE_5666_length_17540_cov_39.164046', 'NODE_33887_length_1914_cov_61.497550', 'NODE_55499_length_1145_cov_1.835206', 'NODE_8905_length_10501_cov_38.608020', 'NODE_1923_length_42336_cov_37.970586', 'NODE_5165_length_19175_cov_36.990494', 'NODE_5439_length_18295_cov_39.951393', 'NODE_17515_length_4365_cov_1.628498', 'NODE_5524_length_18020_cov_60.640138', 'NODE_520_length_104572_cov_40.248251', 'NODE_19882_length_3715_cov_117.832600', 'NODE_6056_length_16321_cov_54.183514', 'NODE_8489_length_11111_cov_39.627696', 'NODE_13274_length_6293_cov_67.948359', 'NODE_867_length_72283_cov_40.422873', 'NODE_5210_length_19024_cov_41.343752', 'NODE_5279_length_18785_cov_37.128715', 'NODE_5291_length_18737_cov_38.505953', 'NODE_19711_length_3755_cov_177.878738', 'NODE_65277_length_988_cov_80.268935', 'NODE_5948_length_16621_cov_56.953276', 'NODE_5185_length_19113_cov_51.963228', 'NODE_40175_length_1581_cov_138.559840', 'NODE_11128_length_7875_cov_48.125160', 'NODE_4244_length_22945_cov_43.032228', 'NODE_16638_length_4668_cov_96.428229', 'NODE_82285_length_807_cov_44.949315', 'NODE_5813_length_16982_cov_41.874260', 'NODE_22990_length_3089_cov_142.543493', 'NODE_4874_length_20116_cov_37.345077', 'NODE_5339_length_18576_cov_37.831018', 'NODE_9574_length_9580_cov_44.215616', 'NODE_61658_length_1040_cov_1143.640706', 'NODE_829_length_74096_cov_65.354085', 'NODE_11665_length_7441_cov_57.376697', 'NODE_5143_length_19243_cov_42.491339', 'NODE_10655_length_8337_cov_41.157627', 'NODE_8934_length_10461_cov_43.715716', 'NODE_866_length_72325_cov_37.472691', 'NODE_6781_length_14418_cov_37.653650', 'NODE_52373_length_1210_cov_1.902913', 'NODE_6984_length_13947_cov_38.879380', 'NODE_17516_length_4364_cov_81.868206', 'NODE_5215_length_19019_cov_37.828236', 'NODE_1465_length_50215_cov_45.222007', 'NODE_3667_length_26145_cov_48.502378', 'NODE_8746_length_10716_cov_29.281041', 'NODE_134624_length_517_cov_187.613636', 'NODE_2774_length_32621_cov_36.854996', 'NODE_46036_length_1373_cov_634.591821', 'NODE_6872_length_14173_cov_71.224177', 'NODE_11077_length_7924_cov_13.114948', 'NODE_6502_length_15105_cov_32.811019', 'NODE_8508_length_11095_cov_11.485025', 'NODE_70317_length_926_cov_1.542992', 'NODE_4742_length_20636_cov_41.178511', 'NODE_12796_length_6585_cov_96.566994', 'NODE_145468_length_482_cov_1.654321', 'NODE_187922_length_374_cov_50.824916', 'NODE_6984_length_13947_cov_38.879380', 'NODE_163194_length_431_cov_109.146893', 'NODE_3601_length_26483_cov_35.616072', 'NODE_19693_length_3759_cov_2.326453', 'NODE_8_length_920040_cov_17.887887', 'NODE_160797_length_438_cov_1.152355', 'NODE_171_length_238445_cov_572.810663', 'NODE_311_length_156469_cov_32.611502', 'NODE_25832_length_2666_cov_10.276555', 'NODE_15_length_759953_cov_292.559295', 'NODE_197_length_219627_cov_52.866117', 'NODE_152_length_259012_cov_32.238044', 'NODE_9657_length_9486_cov_41.815390', 'NODE_38_length_520036_cov_47.857456', 'NODE_27_length_600914_cov_14.349319', 'NODE_179_length_230196_cov_11.871036', 'NODE_132_length_285120_cov_137.485885', 'NODE_2364_length_36824_cov_1984.494571', 'NODE_254_length_184797_cov_7.251294', 'NODE_377_length_136897_cov_6.550351', 'NODE_1634_length_47073_cov_31.715572', 'NODE_3763_length_25504_cov_3.576867', 'NODE_113_length_322384_cov_46.569383', 'NODE_4384_length_22242_cov_940.677600', 'NODE_398_length_128959_cov_17.006463', 'NODE_619_length_90376_cov_5.509109', 'NODE_330_length_150702_cov_302.813457', 'NODE_14578_length_5562_cov_2.695716', 'NODE_155_length_252422_cov_128.823373', 'NODE_395_length_129935_cov_617.085062', 'NODE_153_length_255781_cov_13.970744', 'NODE_182_length_228583_cov_79.382664', 'NODE_48_length_497299_cov_6.449061', 'NODE_6496_length_15111_cov_1016.212452', 'NODE_6701_length_14585_cov_3.780604', 'NODE_117_length_315731_cov_6.054322', 'NODE_53743_length_1180_cov_2.126020', 'NODE_8688_length_10798_cov_2.900009', 'NODE_15287_length_5216_cov_4.023545', 'NODE_4297_length_22640_cov_6.481496', 'NODE_4572_length_21411_cov_2.919518', 'NODE_24607_length_2830_cov_2.762078', 'NODE_9289_length_9944_cov_2.221851', 'NODE_965_length_66675_cov_6.078110', 'NODE_20805_length_3501_cov_2.607477', 'NODE_115_length_316723_cov_17.494170', 'NODE_1_length_1214521_cov_6.930895', 'NODE_65_length_422212_cov_6.412126', 'NODE_531_length_103019_cov_5.844194', 'NODE_13626_length_6093_cov_7.413564', 'NODE_19755_length_3746_cov_3.259471', 'NODE_5023_length_19616_cov_937.917959', 'NODE_8232_length_11555_cov_2.784893', 'NODE_173_length_232916_cov_265.596429', 'NODE_38137_length_1675_cov_2.742178', 'NODE_3018_length_30458_cov_4.146045', 'NODE_11733_length_7373_cov_2.742462', 'NODE_50189_length_1261_cov_1.277872', 'NODE_35_length_543908_cov_16.984931', 'NODE_32_length_556671_cov_424.843629', 'NODE_145_length_273263_cov_31.304994', 'NODE_38562_length_1656_cov_2.459785', 'NODE_741_length_79403_cov_185.477208', 'NODE_21626_length_3339_cov_2.077866', 'NODE_9207_length_10065_cov_2.478274', 'NODE_217_length_208486_cov_6.840141', 'NODE_208_length_212550_cov_43.804855', 'NODE_15194_length_5265_cov_2.682151', 'NODE_34_length_549459_cov_93.351604', 'NODE_9_length_911479_cov_90.897796', 'NODE_12484_length_6796_cov_1290.573002', 'NODE_6433_length_15242_cov_3.264820', 'NODE_10_length_908469_cov_12.406104', 'NODE_39_length_517803_cov_7.286389', 'NODE_53948_length_1176_cov_1.693358', 'NODE_2119_length_39630_cov_2.885243', 'NODE_1064_length_63035_cov_6.873725', 'NODE_28709_length_2337_cov_3.107522', 'NODE_62_length_444389_cov_18.131093', 'NODE_80950_length_820_cov_1.360700', 'NODE_135_length_281329_cov_13.280030', 'NODE_176_length_232184_cov_8.619279', 'NODE_23925_length_2930_cov_2.353663', 'NODE_1_length_1214521_cov_6.930895', 'NODE_20309_length_3613_cov_2.466629', 'NODE_2425_length_36271_cov_3.294192', 'NODE_157_length_250643_cov_11.185995']\n"
     ]
    }
   ],
   "source": [
    "# ids_list contains IDs of ORFs, not scaffolds! this list needs to be modified accordingly\n",
    "ids_list_scaffolds = []\n",
    "for id in ids_list_orfs:\n",
    "    id_modified = id.rsplit('_', 1)[0] # removing the number of orf -> id of the scaffold\n",
    "    ids_list_scaffolds.append(id_modified)\n",
    "print(ids_list_scaffolds)"
   ]
  },
  {
   "cell_type": "code",
   "execution_count": null,
   "id": "486b8e73-f0b3-4c31-8757-c85b5ee385ef",
   "metadata": {},
   "outputs": [],
   "source": []
  },
  {
   "cell_type": "markdown",
   "id": "4edb8f3b-8b06-4d50-8718-5c52a3b21920",
   "metadata": {},
   "source": [
    "#### to be able to extract the scaffolds, blastable databases need to be created first (for genome and orfs)"
   ]
  },
  {
   "cell_type": "code",
   "execution_count": null,
   "id": "33d0b094-90a3-4a0c-875a-e85c9462723e",
   "metadata": {
    "scrolled": true
   },
   "outputs": [],
   "source": [
    "def makeblastdb(file_path, db_type, blastables_outdir):\n",
    "    db_name = f\"{blastables_outdir}/{file_path.split('/')[-1].split('.')[0]}\"\n",
    "    command = [\"makeblastdb\", \"-in\", file_path, \"-dbtype\", db_type, \"-out\", db_name, \"-parse_seqids\"]\n",
    "    subprocess.run(command, check=True)\n",
    "\n",
    "blastables_outdir = \"/home/majnusova/all/projects/plv/data/blastables/\"\n",
    "\n",
    "\n",
    "for genome_path in genomes:\n",
    "    makeblastdb(genome_path, \"nucl\", blastables_outdir) # misto file_path volame s genome_path\n",
    "\n",
    "for orf_file_path in orf_files:\n",
    "    makeblastdb(orf_file_path, \"prot\", blastables_outdir)\n"
   ]
  },
  {
   "cell_type": "code",
   "execution_count": null,
   "id": "916e54dc-2f4b-4e11-abc7-ac9bd43733c8",
   "metadata": {
    "scrolled": true
   },
   "outputs": [],
   "source": [
    "# enables to skip IDs not present in the particular database and proceeds to another one as the old verison of blast does\n",
    "\n",
    "def run_blastdbcmd(id, genome_db, outscaffold):\n",
    "    # check if the output file exists and is non-empty\n",
    "    if os.path.exists(outscaffold) and os.path.getsize(outscaffold) > 0:\n",
    "        record = SeqIO.read(outscaffold, \"fasta\")\n",
    "        if len(record.seq) < 20000:\n",
    "            print(f\"Notice: Scaffold {id} is shorter than 20000 nucleotides, removing file.\")\n",
    "            os.remove(outscaffold)\n",
    "            return False\n",
    "        return True\n",
    "\n",
    "    command = [\"blastdbcmd\", \"-entry\", str(id), \"-db\", genome_db, \"-out\", outscaffold]\n",
    "    result = subprocess.run(command, text=True, capture_output=True)\n",
    "\n",
    "    if result.returncode == 0:\n",
    "        # check the file size right after running the command\n",
    "        if os.path.getsize(outscaffold) > 0:\n",
    "            record = SeqIO.read(outscaffold, \"fasta\")\n",
    "            if len(record.seq) < 20000:\n",
    "                print(f\"Notice: Scaffold {id} is shorter than 20000 nucleotides, removing file.\")\n",
    "                os.remove(outscaffold)\n",
    "                return False\n",
    "            return True\n",
    "        else:\n",
    "            print(f\"Notice: The file created for ID {id} is empty, removing.\")\n",
    "            os.remove(outscaffold)\n",
    "            return False\n",
    "    else:\n",
    "        print(f\"Warning: ID {id} not found in database {genome_db}.\")\n",
    "        if os.path.exists(outscaffold) and os.path.getsize(outscaffold) == 0:\n",
    "            os.remove(outscaffold)\n",
    "        return False\n",
    "\n",
    "scaffolds_dir = \"/home/majnusova/all/projects/plv/data/eve_outscaffolds/\"\n",
    "blastables_outdir = \"/home/majnusova/all/projects/plv/data/blastables/\"\n",
    "prot_database = \"_orfs.\" # to exclude orf files; we need genomes\n",
    "\n",
    "for id in ids_list_scaffolds:\n",
    "    for filename in os.listdir(blastables_outdir):\n",
    "        if prot_database not in filename:\n",
    "            base_name = filename.split('.')[0]\n",
    "            genome_db = os.path.join(blastables_outdir, base_name)\n",
    "            outscaffold = f\"{scaffolds_dir}/{id}_EVE.fasta\"\n",
    "            if run_blastdbcmd(id, genome_db, outscaffold):\n",
    "                break  # Exit the loop if successful\n"
   ]
  },
  {
   "cell_type": "markdown",
   "id": "3bf0f407-845e-42fa-b0c2-5c2139814bb5",
   "metadata": {},
   "source": [
    "## Turning the extracted scaffolds into single line files to make it possible to search for the repeats flanking the EVEs"
   ]
  },
  {
   "cell_type": "code",
   "execution_count": null,
   "id": "8071d509-832d-4139-83f3-082badf6c32f",
   "metadata": {},
   "outputs": [],
   "source": [
    "scaffolds_dir = \"/home/majnusova/all/projects/plv/data/eve_outscaffolds/\"\n",
    "singleline_dir = \"/home/majnusova/all/projects/plv/data/eve_singleline_scaffolds/\" \n",
    "\n",
    "for outscaffold in os.listdir(scaffolds_dir):  #os.listdir lists all files/directories; not paths\n",
    "    outscaffold_path = os.path.join(scaffolds_dir, outscaffold) # paths to all the files listed\n",
    "    with open(outscaffold_path, \"r\") as infile:\n",
    "        lines = infile.readlines()\n",
    "    header = lines[0]  # fasta header\n",
    "    joined_lines = ''.join(line.strip() for line in lines[1:])  # Join all lines except the first\n",
    "\n",
    "    output_file_path = os.path.join(singleline_dir, outscaffold)  \n",
    "    with open(output_file_path, \"w\") as outfile:\n",
    "        outfile.write(header) \n",
    "        outfile.write(joined_lines)  "
   ]
  },
  {
   "cell_type": "markdown",
   "id": "3a474e29-37f3-4115-bdc6-8186b0fda6f3",
   "metadata": {},
   "source": [
    "## blastn to find DRs (shortest one has 48 nt, longest one 101 nt) - je treba vybrat jen cast skafoldu, nektere jsou velke?"
   ]
  },
  {
   "cell_type": "raw",
   "id": "3735fbd5-e8ab-4190-973c-3a4cae8ebd9e",
   "metadata": {},
   "source": [
    " Score = 115 bits (62),  Expect = 5e-21\n",
    " Identities = 62/62 (100%), Gaps = 0/62 (0%)\n",
    " Strand=Plus/Plus"
   ]
  },
  {
   "cell_type": "code",
   "execution_count": 89,
   "id": "10bafcfb-8f9d-4516-a2ba-d8859f74d29b",
   "metadata": {},
   "outputs": [
    {
     "data": {
      "text/plain": [
       "' \\n# count the total number of IDs across all files:\\ntotal_ids = sum(len(id_list) for id_list in ids_dict_orfs.values())\\nprint(f\"Total number of IDs across all files: {total_ids}\")\\n\\n# To see the count of IDs per file:\\nfor file, id_list in ids_dict_orfs.items():\\n    print(f\"{file}: {len(id_list)} IDs\")\\n    '"
      ]
     },
     "execution_count": 89,
     "metadata": {},
     "output_type": "execute_result"
    }
   ],
   "source": [
    "ids_dict_orfs = {} #dictionary of lists - potrebujeme vedet, proti jakemu genomu scaffoldy blastovat, vracime se zpet k hemmru (IDs casto neobsahuji nazev genomu, ze ktereho pochazi)\n",
    "\n",
    "for file in glob(\"/home/majnusova/all/projects/plv/data/eustigs_hmmout/*_atp.hmmout\"):\n",
    "    hmm_records = SearchIO.read(file, \"hmmer3-text\")\n",
    "    ids_dict_orfs[file] = [] # create empty list in the dictionary for the current file\n",
    "    for record in hmm_records:\n",
    "        if record.is_included:\n",
    "            ids_dict_orfs[file].append(record.id) # append the ID to the list associated with the current file\n",
    "\n",
    "\"\"\" \n",
    "# count the total number of IDs across all files:\n",
    "total_ids = sum(len(id_list) for id_list in ids_dict_orfs.values())\n",
    "print(f\"Total number of IDs across all files: {total_ids}\")\n",
    "\n",
    "# To see the count of IDs per file:\n",
    "for file, id_list in ids_dict_orfs.items():\n",
    "    print(f\"{file}: {len(id_list)} IDs\")\n",
    "    \"\"\"\n"
   ]
  },
  {
   "cell_type": "code",
   "execution_count": null,
   "id": "c74e6f7b-6291-406d-badb-74894521254c",
   "metadata": {},
   "outputs": [],
   "source": []
  },
  {
   "cell_type": "code",
   "execution_count": 90,
   "id": "93bc2dab-9ebe-4eba-827a-cc8d4f4919e8",
   "metadata": {
    "scrolled": true
   },
   "outputs": [
    {
     "name": "stdout",
     "output_type": "stream",
     "text": [
      "{'/home/majnusova/all/projects/plv/data/eustigs_hmmout/Chic10_scaffolds_atp.hmmout': ['NODE_5080_length_5696_cov_26.6876_1', 'NODE_381_length_27838_cov_14.2215_25', 'NODE_7293_length_4272_cov_22.9291_3', 'NODE_5397_length_5445_cov_37.4879_2', 'NODE_6066_length_4954_cov_14.3046_4', 'NODE_847_length_17049_cov_12.9829_3', 'NODE_7343_length_4249_cov_22.2454_2', 'NODE_19673_length_1550_cov_34.6107_1', 'NODE_1409_length_12728_cov_15.5927_2', 'NODE_1574_length_11923_cov_14.5027_1', 'NODE_711_length_18631_cov_14.7806_4', 'NODE_15445_length_2031_cov_23.9084_2', 'NODE_15112_length_2083_cov_16.6144_1', 'NODE_12470_length_2567_cov_17.4088_2', 'NODE_34064_length_837_cov_18.9655_1', 'NODE_4057_length_6629_cov_27.157_1', 'NODE_865_length_16875_cov_12.6059_4', 'NODE_869_length_16855_cov_12.4798_4', 'NODE_6477_length_4696_cov_21.0899_1', 'NODE_17368_length_1781_cov_15.3621_1', 'NODE_18418_length_1671_cov_21.013_1', 'NODE_352_length_29307_cov_12.7034_4', 'NODE_31105_length_924_cov_16.8895_1', 'NODE_4114_length_6570_cov_18.8181_3', 'NODE_64132_length_412_cov_37.521_1', 'NODE_21363_length_1410_cov_17.5911_2', 'NODE_729_length_18418_cov_17.5178_2', 'NODE_2989_length_8109_cov_18.7196_1', 'NODE_19459_length_1568_cov_14.5763_2', 'NODE_5193_length_5598_cov_18.435_1', 'NODE_1700_length_11441_cov_11.3554_2', 'NODE_23099_length_1285_cov_30.4293_1', 'NODE_5175_length_5619_cov_15.8523_3', 'NODE_1497_length_12259_cov_17.1079_5', 'NODE_45_length_194274_cov_4.45832_227', 'NODE_726_length_18432_cov_13.3793_4', 'NODE_2472_length_9153_cov_15.0004_3', 'NODE_1914_length_10584_cov_13.0671_6', 'NODE_27232_length_1069_cov_21.7475_1', 'NODE_16_length_371769_cov_13.539_405', 'NODE_1_length_1589435_cov_13.0886_269', 'NODE_10_length_626405_cov_4.34645_166', 'NODE_70_length_144148_cov_190.155_76', 'NODE_7137_length_4338_cov_10.9433_1', 'NODE_498_length_23434_cov_17.1238_3', 'NODE_33_length_241831_cov_197.129_26', 'NODE_89_length_113149_cov_3.22244_46', 'NODE_33_length_241831_cov_197.129_40', 'NODE_146_length_60639_cov_3.37158_5', 'NODE_95_length_100189_cov_309.803_24', 'NODE_122_length_74444_cov_387.187_15', 'NODE_381_length_27838_cov_14.2215_15', 'NODE_55_length_165510_cov_190.906_69', 'NODE_58_length_162532_cov_4.15186_9', 'NODE_98_length_98422_cov_62.5464_9', 'NODE_43_length_199121_cov_7.50572_77', 'NODE_2_length_969053_cov_7.62238_389', 'NODE_37_length_230641_cov_4.40646_312', 'NODE_4001_length_6695_cov_39.1587_5', 'NODE_10658_length_3024_cov_17.2284_1', 'NODE_11_length_515168_cov_3.2278_362', 'NODE_63_length_153037_cov_4.46219_187', 'NODE_1003_length_15534_cov_74.2099_7', 'NODE_244_length_37664_cov_11.8205_8', 'NODE_104_length_85964_cov_12.9853_33', 'NODE_66_length_150458_cov_3.12336_160', 'NODE_3_length_955702_cov_6.81221_1544', 'NODE_28_length_282822_cov_9.9159_75', 'NODE_13_length_427009_cov_190.15_250', 'NODE_94_length_101213_cov_13.992_136', 'NODE_2_length_969053_cov_7.62238_719', 'NODE_95_length_100189_cov_309.803_5', 'NODE_3_length_955702_cov_6.81221_1476', 'NODE_312_length_31651_cov_4.15834_41', 'NODE_2_length_969053_cov_7.62238_407', 'NODE_11781_length_2744_cov_19.5329_3', 'NODE_34592_length_823_cov_18.1107_1', 'NODE_34_length_241557_cov_7.5501_140', 'NODE_6241_length_4835_cov_7.08054_2', 'NODE_9_length_666414_cov_4.15495_387', 'NODE_26_length_312622_cov_7.43917_96', 'NODE_1_length_1589435_cov_13.0886_2530'], '/home/majnusova/all/projects/plv/data/eustigs_hmmout/Vischeria_C74_genome_v1_atp.hmmout': ['Vischeria_C74_contig_15_2692', 'Vischeria_C74_contig_12_1658', 'Vischeria_C74_contig_9_1614', 'Vischeria_C74_contig_46_72', 'Vischeria_C74_contig_4_3954', 'Vischeria_C74_contig_13_3269', 'Vischeria_C74_contig_27_2237', 'Vischeria_C74_contig_13_2994', 'Vischeria_C74_contig_33_10', 'Vischeria_C74_contig_10_2202', 'Vischeria_C74_contig_10_885', 'Vischeria_C74_contig_19_2921', 'Vischeria_C74_contig_2_5583', 'Vischeria_C74_contig_4_5302', 'Vischeria_C74_contig_33_410', 'Vischeria_C74_contig_16_620', 'Vischeria_C74_contig_25_151', 'Vischeria_C74_contig_9_1559', 'Vischeria_C74_contig_13_1297', 'Vischeria_C74_contig_9_1913', 'Vischeria_C74_contig_8_4488', 'Vischeria_C74_contig_3_336', 'Vischeria_C74_contig_18_3432', 'Vischeria_C74_contig_9_1912', 'Vischeria_C74_contig_16_737', 'Vischeria_C74_contig_12_1405', 'Vischeria_C74_contig_16_3270'], '/home/majnusova/all/projects/plv/data/eustigs_hmmout/Characiopsis_New_scaffolds_atp.hmmout': ['NODE_541_length_101851_cov_46.471309_4', 'NODE_8926_length_10478_cov_112.808095_5', 'NODE_6781_length_14418_cov_37.653650_10', 'NODE_7519_length_12830_cov_74.394025_1', 'NODE_6613_length_14812_cov_55.852596_1', 'NODE_22338_length_3203_cov_73.093410_2', 'NODE_55_length_463973_cov_37.984469_471', 'NODE_28174_length_2388_cov_130.530074_3', 'NODE_7863_length_12198_cov_39.876825_7', 'NODE_30947_length_2131_cov_44.927459_1', 'NODE_14086_length_5828_cov_114.282560_5', 'NODE_6253_length_15760_cov_50.012179_2', 'NODE_15254_length_5228_cov_2.298583_6', 'NODE_5979_length_16534_cov_39.455794_8', 'NODE_1103_length_61346_cov_37.814180_76', 'NODE_5256_length_18861_cov_43.559891_30', 'NODE_26439_length_2586_cov_73.009167_2', 'NODE_19752_length_3746_cov_115.179340_1', 'NODE_6042_length_16357_cov_74.447850_1', 'NODE_320_length_153881_cov_39.008816_191', 'NODE_5631_length_17651_cov_35.077843_19', 'NODE_5268_length_18834_cov_37.274020_5', 'NODE_3853_length_25035_cov_37.882483_16', 'NODE_4047_length_24047_cov_37.496871_5', 'NODE_10355_length_8667_cov_4.009197_4', 'NODE_5666_length_17540_cov_39.164046_3', 'NODE_33887_length_1914_cov_61.497550_1', 'NODE_55499_length_1145_cov_1.835206_1', 'NODE_8905_length_10501_cov_38.608020_2', 'NODE_1923_length_42336_cov_37.970586_26', 'NODE_5165_length_19175_cov_36.990494_16', 'NODE_5439_length_18295_cov_39.951393_8', 'NODE_17515_length_4365_cov_1.628498_2', 'NODE_5524_length_18020_cov_60.640138_4', 'NODE_520_length_104572_cov_40.248251_16', 'NODE_19882_length_3715_cov_117.832600_1', 'NODE_6056_length_16321_cov_54.183514_5', 'NODE_8489_length_11111_cov_39.627696_2', 'NODE_13274_length_6293_cov_67.948359_7', 'NODE_867_length_72283_cov_40.422873_20', 'NODE_5210_length_19024_cov_41.343752_8', 'NODE_5279_length_18785_cov_37.128715_17', 'NODE_5291_length_18737_cov_38.505953_15', 'NODE_19711_length_3755_cov_177.878738_3', 'NODE_65277_length_988_cov_80.268935_1', 'NODE_5948_length_16621_cov_56.953276_9', 'NODE_5185_length_19113_cov_51.963228_8', 'NODE_40175_length_1581_cov_138.559840_1', 'NODE_11128_length_7875_cov_48.125160_3', 'NODE_4244_length_22945_cov_43.032228_19', 'NODE_16638_length_4668_cov_96.428229_2', 'NODE_82285_length_807_cov_44.949315_1', 'NODE_5813_length_16982_cov_41.874260_2', 'NODE_22990_length_3089_cov_142.543493_3', 'NODE_4874_length_20116_cov_37.345077_6', 'NODE_5339_length_18576_cov_37.831018_13', 'NODE_9574_length_9580_cov_44.215616_1', 'NODE_61658_length_1040_cov_1143.640706_1', 'NODE_829_length_74096_cov_65.354085_7', 'NODE_11665_length_7441_cov_57.376697_2', 'NODE_5143_length_19243_cov_42.491339_7', 'NODE_10655_length_8337_cov_41.157627_6', 'NODE_8934_length_10461_cov_43.715716_10', 'NODE_866_length_72325_cov_37.472691_52', 'NODE_6781_length_14418_cov_37.653650_17', 'NODE_52373_length_1210_cov_1.902913_1', 'NODE_6984_length_13947_cov_38.879380_3', 'NODE_17516_length_4364_cov_81.868206_1', 'NODE_5215_length_19019_cov_37.828236_20', 'NODE_1465_length_50215_cov_45.222007_18', 'NODE_3667_length_26145_cov_48.502378_19', 'NODE_8746_length_10716_cov_29.281041_9', 'NODE_134624_length_517_cov_187.613636_1', 'NODE_2774_length_32621_cov_36.854996_23', 'NODE_46036_length_1373_cov_634.591821_2', 'NODE_6872_length_14173_cov_71.224177_3', 'NODE_11077_length_7924_cov_13.114948_4', 'NODE_6502_length_15105_cov_32.811019_6', 'NODE_8508_length_11095_cov_11.485025_4', 'NODE_70317_length_926_cov_1.542992_1', 'NODE_4742_length_20636_cov_41.178511_13', 'NODE_12796_length_6585_cov_96.566994_4', 'NODE_145468_length_482_cov_1.654321_1', 'NODE_187922_length_374_cov_50.824916_1', 'NODE_6984_length_13947_cov_38.879380_2', 'NODE_163194_length_431_cov_109.146893_1', 'NODE_3601_length_26483_cov_35.616072_22', 'NODE_19693_length_3759_cov_2.326453_4', 'NODE_8_length_920040_cov_17.887887_833', 'NODE_160797_length_438_cov_1.152355_1', 'NODE_171_length_238445_cov_572.810663_248', 'NODE_311_length_156469_cov_32.611502_212', 'NODE_25832_length_2666_cov_10.276555_3', 'NODE_15_length_759953_cov_292.559295_262', 'NODE_197_length_219627_cov_52.866117_27', 'NODE_152_length_259012_cov_32.238044_218', 'NODE_9657_length_9486_cov_41.815390_5', 'NODE_38_length_520036_cov_47.857456_203', 'NODE_27_length_600914_cov_14.349319_580', 'NODE_179_length_230196_cov_11.871036_47', 'NODE_132_length_285120_cov_137.485885_215', 'NODE_2364_length_36824_cov_1984.494571_9', 'NODE_254_length_184797_cov_7.251294_105', 'NODE_377_length_136897_cov_6.550351_176', 'NODE_1634_length_47073_cov_31.715572_51', 'NODE_3763_length_25504_cov_3.576867_6', 'NODE_113_length_322384_cov_46.569383_318', 'NODE_4384_length_22242_cov_940.677600_3', 'NODE_398_length_128959_cov_17.006463_86', 'NODE_619_length_90376_cov_5.509109_46', 'NODE_330_length_150702_cov_302.813457_253', 'NODE_14578_length_5562_cov_2.695716_2', 'NODE_155_length_252422_cov_128.823373_158', 'NODE_395_length_129935_cov_617.085062_224', 'NODE_153_length_255781_cov_13.970744_62', 'NODE_182_length_228583_cov_79.382664_47', 'NODE_48_length_497299_cov_6.449061_169', 'NODE_6496_length_15111_cov_1016.212452_3', 'NODE_6701_length_14585_cov_3.780604_1', 'NODE_117_length_315731_cov_6.054322_363', 'NODE_53743_length_1180_cov_2.126020_1', 'NODE_8688_length_10798_cov_2.900009_6', 'NODE_15287_length_5216_cov_4.023545_6', 'NODE_4297_length_22640_cov_6.481496_2', 'NODE_4572_length_21411_cov_2.919518_3', 'NODE_24607_length_2830_cov_2.762078_2', 'NODE_9289_length_9944_cov_2.221851_18', 'NODE_965_length_66675_cov_6.078110_86', 'NODE_20805_length_3501_cov_2.607477_2', 'NODE_115_length_316723_cov_17.494170_17', 'NODE_1_length_1214521_cov_6.930895_1878', 'NODE_65_length_422212_cov_6.412126_503', 'NODE_531_length_103019_cov_5.844194_147', 'NODE_13626_length_6093_cov_7.413564_4', 'NODE_19755_length_3746_cov_3.259471_4', 'NODE_5023_length_19616_cov_937.917959_5', 'NODE_8232_length_11555_cov_2.784893_21', 'NODE_173_length_232916_cov_265.596429_426', 'NODE_38137_length_1675_cov_2.742178_1', 'NODE_3018_length_30458_cov_4.146045_60', 'NODE_11733_length_7373_cov_2.742462_15', 'NODE_50189_length_1261_cov_1.277872_2', 'NODE_35_length_543908_cov_16.984931_392', 'NODE_32_length_556671_cov_424.843629_80', 'NODE_145_length_273263_cov_31.304994_495', 'NODE_38562_length_1656_cov_2.459785_1', 'NODE_741_length_79403_cov_185.477208_114', 'NODE_21626_length_3339_cov_2.077866_2', 'NODE_9207_length_10065_cov_2.478274_4', 'NODE_217_length_208486_cov_6.840141_154', 'NODE_208_length_212550_cov_43.804855_251', 'NODE_15194_length_5265_cov_2.682151_1', 'NODE_34_length_549459_cov_93.351604_851', 'NODE_9_length_911479_cov_90.897796_472', 'NODE_12484_length_6796_cov_1290.573002_1', 'NODE_6433_length_15242_cov_3.264820_13', 'NODE_10_length_908469_cov_12.406104_30', 'NODE_39_length_517803_cov_7.286389_789', 'NODE_53948_length_1176_cov_1.693358_1', 'NODE_2119_length_39630_cov_2.885243_25', 'NODE_1064_length_63035_cov_6.873725_79', 'NODE_28709_length_2337_cov_3.107522_2', 'NODE_62_length_444389_cov_18.131093_102', 'NODE_80950_length_820_cov_1.360700_2', 'NODE_135_length_281329_cov_13.280030_127', 'NODE_176_length_232184_cov_8.619279_91', 'NODE_23925_length_2930_cov_2.353663_3', 'NODE_1_length_1214521_cov_6.930895_63', 'NODE_20309_length_3613_cov_2.466629_6', 'NODE_2425_length_36271_cov_3.294192_30', 'NODE_157_length_250643_cov_11.185995_221']}\n"
     ]
    }
   ],
   "source": [
    "print(ids_dict_orfs)"
   ]
  },
  {
   "cell_type": "code",
   "execution_count": null,
   "id": "c417f0d0-8583-4efe-83ca-ca9d8d863ed0",
   "metadata": {},
   "outputs": [],
   "source": [
    "def blastn_repeats(input, output, database):\n",
    "    command = [\"blastn\", \"-query\", input, \"-out\", output, \"-db\", db] \n",
    "    subprocess.run(command, check=True)\n",
    "\n",
    "\n",
    "output_dir = \"/home/majnusova/all/projects/plv/data/blastn_repeats/\" # vytvorit na kazdy genom slozku zvlast!\n",
    "blastables_outdir = \"/home/majnusova/all/projects/plv/data/blastables/\" # contains the assemblies\n",
    "\n",
    "for file in os.listdir(singleline_dir):\n",
    "    input = os.path.join(singleline_dir, file)\n",
    "    output = os.path.join(output_dir, file)\n",
    "    database = \n",
    "    \n",
    "    \n",
    "\n",
    "blastn({input}, {output}, {database})"
   ]
  },
  {
   "cell_type": "raw",
   "id": "5ca0ee78-107e-48a6-a1e4-40536cdd6942",
   "metadata": {},
   "source": [
    "poresit i reverse sense contigs (patrne jiz v hmmout)"
   ]
  },
  {
   "cell_type": "markdown",
   "id": "650b3ae6-0e79-43f9-91a9-b225e6f1acfe",
   "metadata": {},
   "source": [
    "## TSD - nejspis nelze zautomatizovat? nebo zkusit vyextrahovat malou cast scaffoldu, treba plus 10 nt down i upstream od oubou casti repetice a projet to blastn-short?"
   ]
  },
  {
   "cell_type": "markdown",
   "id": "c069488e-77a2-485e-bffa-0247b92bb995",
   "metadata": {},
   "source": [
    "## extract orfs between tirs - pujde v pohode i bez vymezeneho TSD. kontrola spravnosti elementu - v orfech musi byt protein identifikovany hmmerem hned na zacatku... "
   ]
  }
 ],
 "metadata": {
  "kernelspec": {
   "display_name": "Python 3 (ipykernel)",
   "language": "python",
   "name": "python3"
  },
  "language_info": {
   "codemirror_mode": {
    "name": "ipython",
    "version": 3
   },
   "file_extension": ".py",
   "mimetype": "text/x-python",
   "name": "python",
   "nbconvert_exporter": "python",
   "pygments_lexer": "ipython3",
   "version": "3.10.12"
  }
 },
 "nbformat": 4,
 "nbformat_minor": 5
}
